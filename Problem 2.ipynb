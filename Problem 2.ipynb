{
 "cells": [
  {
   "cell_type": "code",
   "execution_count": 834,
   "metadata": {},
   "outputs": [],
   "source": [
    "import numpy as np\n",
    "from scipy.special import gamma\n",
    "import matplotlib.pyplot as plt\n",
    "import random\n",
    "import scipy\n",
    "from sklearn.preprocessing import normalize\n",
    "%matplotlib tk"
   ]
  },
  {
   "cell_type": "code",
   "execution_count": 620,
   "metadata": {},
   "outputs": [],
   "source": [
    "# Loading in the data\n",
    "data = np.loadtxt('MineRecord_teamC.txt',dtype=int)"
   ]
  },
  {
   "cell_type": "markdown",
   "metadata": {},
   "source": [
    "## Part B"
   ]
  },
  {
   "cell_type": "code",
   "execution_count": 891,
   "metadata": {},
   "outputs": [],
   "source": [
    "def lambda1(n0,data):\n",
    "    '''\n",
    "    Picking out a random lambda 1 value from the Gamma(a1,b1)\n",
    "    '''\n",
    "    # Calculating a & b values\n",
    "    x = data[:n0]\n",
    "    a = 3 + np.sum(x)\n",
    "    b = 1/(1 + n0)\n",
    "    \n",
    "    # Picking a lambda 1 values\n",
    "    lambda1 = np.random.gamma(a,b)\n",
    "    return lambda1\n",
    "\n",
    "def lambda2(n0,data):\n",
    "    '''\n",
    "    Picking out a random lambda 2 from Gamma(a2,b2)\n",
    "    '''\n",
    "    # Calculating a & b values\n",
    "    x = data[n0:]\n",
    "    a = 3 + np.sum(x)\n",
    "    b = 1/(1 + (112-n0))\n",
    "    \n",
    "    # Picking a lambda 2 value\n",
    "    lambda2 = np.random.gamma(a,b)\n",
    "    return lambda2\n",
    "\n",
    "    \n",
    "def lnprob(n0,data):\n",
    "    '''\n",
    "    Generates a new n0 value given the data and n0 value\n",
    "    '''\n",
    "    # splits the data up\n",
    "    x1 = data[:int(n0)]\n",
    "    x2 = data[int(n0):]\n",
    "    \n",
    "    # Gets lambda values\n",
    "    l1 = lambda1(n0,data)\n",
    "    l2 = lambda2(n0,data)\n",
    "    \n",
    "    # Creates a probability distribution\n",
    "    prob_vals = []\n",
    "    years = np.array(np.arange(1,113))\n",
    "    for i in years:\n",
    "        xx1 = data[:i]\n",
    "        xx2 = data[i:]\n",
    "        prob_vals.append(np.exp((np.log(l1)*np.sum(xx1))-(i*l1)+(np.log(l2)*np.sum(xx2))-(112-i)*l2))\n",
    "    prob_vals = np.array((prob_vals-min(prob_vals))/(max(prob_vals)-min(prob_vals)))\n",
    "    prob_n0 = prob_vals[n0-1]\n",
    "    \n",
    "    # Picks a new n0\n",
    "    new_n0 = random.choices(years,weights=prob_vals)\n",
    "\n",
    "    return int(np.array(new_n0)),prob_n0,l1,l2\n",
    "    \n",
    "    "
   ]
  },
  {
   "cell_type": "code",
   "execution_count": 991,
   "metadata": {},
   "outputs": [],
   "source": [
    "def mcmc(n0_int,data,steps=100):\n",
    "    '''\n",
    "    MCMC to figure out the year regulations changed using Gibbs Sampling\n",
    "    \n",
    "    Inputs\n",
    "    ------\n",
    "    Intial year n0 guess\n",
    "    Data\n",
    "    Number of steps (default = 100)    \n",
    "    \n",
    "    Returns\n",
    "    -------\n",
    "    The mean of n0, lambda 1, and lambda 2 as a 1D array\n",
    "    The arrays of n0, lamda 1, and lambda 2 as a 3D array\n",
    "    \n",
    "    \n",
    "    \n",
    "    Algorithm\n",
    "    ---------\n",
    "    From n0 picks lambda 1 and 2\n",
    "    then using those values\n",
    "    calculates the probability of n0\n",
    "    choose another n0 value\n",
    "    repeats \n",
    "    ''' \n",
    "    n0_vals = []\n",
    "    n0_prob = []\n",
    "    l1_vals = []\n",
    "    l2_vals = []\n",
    "    n0 = n0_int\n",
    "    \n",
    "    for i in range(steps):\n",
    "        # Calculating probability of n0 being the year\n",
    "        n0,prob,l1,l2 = lnprob(n0,data)\n",
    "            \n",
    "        # appending values\n",
    "        n0_vals.append(n0)\n",
    "        n0_prob.append(prob)\n",
    "        l1_vals.append(l1)\n",
    "        l2_vals.append(l2)\n",
    "\n",
    "        \n",
    "    # Changing into numpy arrays\n",
    "    n0_vals = np.array(n0_vals)\n",
    "    n0_prob = np.array(n0_prob)\n",
    "    l1_vals = np.array(l1_vals)\n",
    "    l2_vals = np.array(l2_vals)\n",
    "    \n",
    "    # Plotting data\n",
    "    years = np.arange(1851,1963)\n",
    "    d = plt.figure(1)\n",
    "    plt.plot(years,data,marker='o',color='black')\n",
    "    plt.xlabel('Year')\n",
    "    plt.ylabel('Number of Accidents')\n",
    "    d.show()\n",
    "    \n",
    "    # Plotting the histogram\n",
    "    h = plt.figure(2)\n",
    "    plt.hist(n0_vals,color='black',histtype='step',bins=100,density=True,weights=n0_prob)\n",
    "    h.show()\n",
    "    \n",
    "    # Plotting lambda 1 and lambda 2\n",
    "    l = plt.figure(3)\n",
    "    plt.scatter(l1_vals,l2_vals,marker='o',color='black',s=.5)\n",
    "    plt.xlabel('$\\lambda 1$')\n",
    "    plt.ylabel('$\\lambda 2$')\n",
    "    plt.show()\n",
    "\n",
    "    return np.array([np.mean(n0_vals),np.mean(l1_vals),np.mean(l2_vals)]), [n0_vals,l1_vals,l2_vals]   \n",
    "    "
   ]
  },
  {
   "cell_type": "code",
   "execution_count": 1001,
   "metadata": {},
   "outputs": [],
   "source": [
    "means,values = mcmc(3,data,steps=10**4)"
   ]
  },
  {
   "cell_type": "markdown",
   "metadata": {},
   "source": [
    "## Part C"
   ]
  },
  {
   "cell_type": "markdown",
   "metadata": {},
   "source": [
    "The already saved the plots"
   ]
  },
  {
   "cell_type": "markdown",
   "metadata": {},
   "source": [
    "## Part D"
   ]
  },
  {
   "cell_type": "code",
   "execution_count": 1002,
   "metadata": {},
   "outputs": [
    {
     "data": {
      "text/plain": [
       "array([53.0429    ,  3.51485443,  1.44935242])"
      ]
     },
     "execution_count": 1002,
     "metadata": {},
     "output_type": "execute_result"
    }
   ],
   "source": [
    "means"
   ]
  },
  {
   "cell_type": "markdown",
   "metadata": {},
   "source": [
    "## Part E"
   ]
  },
  {
   "cell_type": "code",
   "execution_count": 995,
   "metadata": {},
   "outputs": [
    {
     "data": {
      "text/plain": [
       "array([55, 52, 55, ..., 53, 54, 54])"
      ]
     },
     "execution_count": 995,
     "metadata": {},
     "output_type": "execute_result"
    }
   ],
   "source": [
    "values[0]"
   ]
  },
  {
   "cell_type": "code",
   "execution_count": 984,
   "metadata": {},
   "outputs": [],
   "source": [
    "def partition(arr,bins):\n",
    "    '''\n",
    "    Breaks up an array into sub-arrays.\n",
    "    If the array doesn't perfect break up, will just take the remainder at the end\n",
    "    '''\n",
    "    # makes list for N number of parameteres\n",
    "    if len(arr) != 1:\n",
    "        lists = [[] for _ in range(len(arr))]\n",
    "    else:\n",
    "        lists = []\n",
    "        \n",
    "    # Loops through each parameter and bins it up\n",
    "    for i in range(len(lists)):\n",
    "        # Putting the data into one array\n",
    "        data = arr[i]\n",
    "        \n",
    "        # Placing the new array\n",
    "        new_arr = lists[i]\n",
    "\n",
    "        # How many time we can fully bin the array\n",
    "        iterations = len(data)//bins\n",
    "\n",
    "        # Breaking up the array\n",
    "        for j in range(iterations):\n",
    "            new_arr.append(data[:bins])\n",
    "            data = data[bins:]\n",
    "        \n",
    "        # The remainder of the array is put at the end\n",
    "        new_arr.append(arr[i])\n",
    "        \n",
    "        # Putting it back into the list \n",
    "        lists[i] = np.array(new_arr)\n",
    "        \n",
    "    return np.array(lists)\n",
    "\n",
    "def meanError(arr,bins):\n",
    "    '''\n",
    "    Takes in an array resulting from an MCMC and caluclates the error associated with it \n",
    "    '''\n",
    "    # This splits the array\n",
    "    new_arr = partition(arr,bins)\n",
    "    \n",
    "    # Makes new arrays for the means\n",
    "    means = [[] for _ in range(len(new_arr))]\n",
    "    err = [[] for _ in range(len(new_arr))]\n",
    "    \n",
    "    # Takes the mean of each sub array and puts it into the mean array\n",
    "    # Calculates the error through usual error estiamte: sqrt(variance/N)\n",
    "    for i in range(len(means)):\n",
    "        data = np.array(new_arr[i])\n",
    "        for j in range(len(data)):\n",
    "            means[i].append(np.mean(data[j]))\n",
    "        err[i].append(np.sqrt(np.var(np.array(means[i]))/np.array(means[i]).shape[0]))\n",
    "    err = np.array(err)\n",
    "    means = np.array(means)\n",
    "    \n",
    "    # Calculates total error\n",
    "    # error = sqrt(sigma_1**2+sigma_2**2+...+sigma_n**2)\n",
    "    error = []\n",
    "    for i in range(len(err)):\n",
    "        error.append(err[i]**2)\n",
    "    error = np.sqrt(np.sum(np.array(error)))/len(error)\n",
    "    \n",
    "    return err,means\n"
   ]
  },
  {
   "cell_type": "code",
   "execution_count": 976,
   "metadata": {},
   "outputs": [],
   "source": [
    "test = partition(values,bins=1000)"
   ]
  },
  {
   "cell_type": "code",
   "execution_count": 990,
   "metadata": {},
   "outputs": [
    {
     "data": {
      "text/plain": [
       "array([[[1.17130848, 1.56117329, 1.39189058, ..., 1.64295891,\n",
       "         1.77695515, 1.41156922]]])"
      ]
     },
     "execution_count": 990,
     "metadata": {},
     "output_type": "execute_result"
    }
   ],
   "source": [
    "test[2]"
   ]
  },
  {
   "cell_type": "code",
   "execution_count": 998,
   "metadata": {},
   "outputs": [],
   "source": [
    "err, mean = meanError(values,bins=1000)"
   ]
  },
  {
   "cell_type": "code",
   "execution_count": 999,
   "metadata": {},
   "outputs": [
    {
     "data": {
      "text/plain": [
       "(array([[0.0223357 ],\n",
       "        [0.00214986],\n",
       "        [0.00129798]]),\n",
       " array([[53.106     , 52.932     , 52.975     , 52.978     , 52.984     ,\n",
       "         52.945     , 53.14      , 52.959     , 53.111     , 53.111     ,\n",
       "         53.0241    ],\n",
       "        [ 3.50664115,  3.51811607,  3.51719209,  3.52080286,  3.53275406,\n",
       "          3.51807315,  3.52683166,  3.5195621 ,  3.52372231,  3.50779956,\n",
       "          3.5191495 ],\n",
       "        [ 1.44731598,  1.45712724,  1.44466654,  1.44959421,  1.44159849,\n",
       "          1.44670035,  1.44601799,  1.45503594,  1.44547091,  1.45032702,\n",
       "          1.44838547]]))"
      ]
     },
     "execution_count": 999,
     "metadata": {},
     "output_type": "execute_result"
    }
   ],
   "source": [
    "err, mean"
   ]
  }
 ],
 "metadata": {
  "kernelspec": {
   "display_name": "Python 3",
   "language": "python",
   "name": "python3"
  },
  "language_info": {
   "codemirror_mode": {
    "name": "ipython",
    "version": 3
   },
   "file_extension": ".py",
   "mimetype": "text/x-python",
   "name": "python",
   "nbconvert_exporter": "python",
   "pygments_lexer": "ipython3",
   "version": "3.7.0"
  }
 },
 "nbformat": 4,
 "nbformat_minor": 2
}
