{
 "cells": [
  {
   "cell_type": "code",
   "execution_count": 561,
   "metadata": {},
   "outputs": [],
   "source": [
    "import numpy as np\n",
    "from scipy.special import gamma\n",
    "import matplotlib.pyplot as plt\n",
    "import random\n",
    "import scipy\n",
    "%matplotlib tk"
   ]
  },
  {
   "cell_type": "code",
   "execution_count": 620,
   "metadata": {},
   "outputs": [],
   "source": [
    "# Loading in the data\n",
    "data = np.loadtxt('MineRecord_teamC.txt',dtype=int)"
   ]
  },
  {
   "cell_type": "code",
   "execution_count": 601,
   "metadata": {},
   "outputs": [
    {
     "data": {
      "text/plain": [
       "3.4267091955395736"
      ]
     },
     "execution_count": 601,
     "metadata": {},
     "output_type": "execute_result"
    }
   ],
   "source": [
    "lambda1(50,data)"
   ]
  },
  {
   "cell_type": "markdown",
   "metadata": {},
   "source": [
    "## Part B"
   ]
  },
  {
   "cell_type": "code",
   "execution_count": 670,
   "metadata": {},
   "outputs": [],
   "source": [
    "def lambda1(n0,data):\n",
    "    '''\n",
    "    Picking out a random lambda 1 value from the Gamma(a1,b1)\n",
    "    '''\n",
    "    # Calculating a & b values\n",
    "    x = data[:n0]\n",
    "    a = 3 + np.sum(x)\n",
    "    b = 1/(1 + n0)\n",
    "    \n",
    "    lambda1 = np.random.gamma(a,b)\n",
    "    return lambda1\n",
    "\n",
    "def lambda2(n0,data):\n",
    "    '''\n",
    "    Picking out a random lambda 2 from Gamma(a2,b2)\n",
    "    '''\n",
    "    # Calculating a & b values\n",
    "    x = data[n0:]\n",
    "    a = 3 + np.sum(x)\n",
    "    b = 1/(1 + (112-n0))\n",
    "    \n",
    "    lambda2 = np.random.gamma(a,b)\n",
    "    return lambda2\n",
    "\n",
    "def poisson(x,Lambda):\n",
    "    '''\n",
    "    Calculate the probability of data using a Poisson Distribution, given an intensity value\n",
    "    tau = 1\n",
    "    '''\n",
    "    intensity = (Lambda**x/scipy.special.factorial(x))*np.exp(-Lambda)\n",
    "    return intensity\n",
    "\n",
    "def lambdaProb(Lambda,a,b):\n",
    "    prob = (1/gamma(a))*(b**a)*Lambda**(a-1)*np.exp(-b*Lambda)\n",
    "    return prob\n",
    "\n",
    "def n0prob(n0,data):\n",
    "    '''\n",
    "    Generates a new n0 value given the data and n0 value\n",
    "    '''\n",
    "    # splits the data up\n",
    "    x1 = data[:int(n0)]\n",
    "    x2 = data[int(n0):]\n",
    "    \n",
    "    # Creates list for the two different products\n",
    "    product_1 = []\n",
    "    product_2 = []\n",
    "    \n",
    "    # Calculating a and b values\n",
    "    a1 = 3 + np.sum(x1)\n",
    "    a2 = 3 + np.sum(x2)\n",
    "    b1 = 1 + n0\n",
    "    b2 = 1 + (112-n0)\n",
    "    \n",
    "    # Gets lambda values\n",
    "    l1 = lambda1(n0,data)\n",
    "    l2 = lambda2(n0,data)\n",
    "    \n",
    "    # Calculates the two products\n",
    "    for i in x1:\n",
    "        product_1.append(poisson(i,l1))\n",
    "    for i in x2:\n",
    "        product_2.append(poisson(i,l2))\n",
    "    product_1 = np.prod(np.array(product_1))\n",
    "    product_2 = np.prod(np.array(product_2))\n",
    "\n",
    "    # Creates a probability distribution\n",
    "    prob_vals = []\n",
    "    years = np.array(np.arange(1,113))\n",
    "    for i in years:\n",
    "        prob_vals.append(product_1*product_2*l1*l2*1/112)\n",
    "    prob_vals = np.array(prob_vals)\n",
    "    \n",
    "    # Picks a random number\n",
    "    new_n0 = random.choices(years,weights=prob_vals)\n",
    "    prob = prob_vals[int(np.array(new_n0))-1]\n",
    "    \n",
    "    return np.array(new_n0),prob,l1,l2\n",
    "    \n",
    "    "
   ]
  },
  {
   "cell_type": "code",
   "execution_count": 672,
   "metadata": {},
   "outputs": [],
   "source": [
    "def mcmc(n0_int,data,steps=100):\n",
    "    '''\n",
    "    MCMC to figure out the year regulations changed using Gibbs Sampling\n",
    "    \n",
    "    Inputs\n",
    "    ------\n",
    "    Intial year n0\n",
    "    Data\n",
    "    Number of steps (default = 100)    \n",
    "    \n",
    "    Algorithm\n",
    "    ---------\n",
    "    From n0 picks lambda 1 and 2\n",
    "    then using those values\n",
    "    calculates the probability of n0\n",
    "    choose another n0 value\n",
    "    repeats \n",
    "    ''' \n",
    "    n0_vals = []\n",
    "    n0_prob = []\n",
    "    l1_vals = []\n",
    "    l2_vals = []\n",
    "    n0 = n0_int\n",
    "    \n",
    "    for i in range(steps):\n",
    "        # Calculating probability of n0 being the year\n",
    "        n0,prob,l1,l2 = n0prob(n0,data)\n",
    "            \n",
    "        # appending values\n",
    "        n0_vals.append(n0)\n",
    "        n0_prob.append(prob)\n",
    "        l1_vals.append(l1)\n",
    "        l2_vals.append(l2)\n",
    "        \n",
    "        # Setting new n0 value\n",
    "        n0 = int(n0)\n",
    "        \n",
    "    # Changing into numpy arrays\n",
    "    n0_vals = np.array(n0_vals)\n",
    "    n0_prob = np.array(n0_prob)\n",
    "    l1_vals = np.array(l1_vals)\n",
    "    l2_vals = np.array(l2_vals)\n",
    "    \n",
    "    # Plotting data\n",
    "    years = np.arange(1851,1963)\n",
    "    d = plt.figure(1)\n",
    "    plt.plot(years,data,marker='o',color='black')\n",
    "    plt.xlabel('Year')\n",
    "    plt.ylabel('Number of Accidents')\n",
    "    d.show()\n",
    "    \n",
    "    # Plotting the histogram\n",
    "    h = plt.figure(2)\n",
    "    n0_vals = n0_vals + 1739 # Converting from int values to years\n",
    "    plt.hist(n0_vals,color='black',histtype='step',bins=100,weights=n0_prob,density=True)\n",
    "    h.show()\n",
    "    \n",
    "    # Plotting lambda 1 and lambda 2\n",
    "    l = plt.figure(3)\n",
    "    plt.scatter(l1_vals,l2_vals,marker='o',color='black',s=.5)\n",
    "    plt.xlabel('$\\lambda 1$')\n",
    "    plt.ylabel('$\\lambda 2$')\n",
    "    plt.show()\n",
    "    \n",
    "    \n",
    "        \n",
    "    "
   ]
  },
  {
   "cell_type": "code",
   "execution_count": 673,
   "metadata": {},
   "outputs": [],
   "source": [
    "mcmc(45,data,steps=10**5)"
   ]
  }
 ],
 "metadata": {
  "kernelspec": {
   "display_name": "Python 3",
   "language": "python",
   "name": "python3"
  },
  "language_info": {
   "codemirror_mode": {
    "name": "ipython",
    "version": 3
   },
   "file_extension": ".py",
   "mimetype": "text/x-python",
   "name": "python",
   "nbconvert_exporter": "python",
   "pygments_lexer": "ipython3",
   "version": "3.7.0"
  }
 },
 "nbformat": 4,
 "nbformat_minor": 2
}
