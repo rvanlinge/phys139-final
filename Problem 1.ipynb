{
 "cells": [
  {
   "cell_type": "code",
   "execution_count": 2,
   "metadata": {},
   "outputs": [],
   "source": [
    "import numpy as np\n",
    "from scipy.stats import multivariate_normal as mv\n",
    "from matplotlib.mlab import bivariate_normal\n",
    "import matplotlib.pyplot as plt\n",
    "from mpl_toolkits.mplot3d import Axes3D\n",
    "import random\n",
    "import scipy\n",
    "%matplotlib tk"
   ]
  },
  {
   "cell_type": "markdown",
   "metadata": {},
   "source": [
    "## Part A"
   ]
  },
  {
   "cell_type": "code",
   "execution_count": 10,
   "metadata": {},
   "outputs": [],
   "source": [
    "# Reference link: https://stackoverflow.com/a/38705297\n",
    "\n",
    "# Creating normal functions\n",
    "mu1 = np.transpose(np.array([0,0]))\n",
    "mu2 = np.transpose(np.array([5,5]))\n",
    "\n",
    "sigma = np.array([[0.25,0],[0,2]])\n",
    "sigma = sigma.diagonal(0)\n",
    "\n",
    "n1 = mv(mu1,sigma)\n",
    "n2 = mv(mu2,sigma)\n",
    "\n",
    "# Creating a grid\n",
    "x1 = np.linspace(-10,10,500)\n",
    "x2 = np.linspace(-5,10,500)\n",
    "X1,X2 = np.meshgrid(x1,x2)\n",
    "X = np.dstack((X1,X2))\n",
    "Prob = 0.5*(n1.pdf(X)+n2.pdf(X))\n",
    "\n",
    "# Plotting\n",
    "fig = plt.figure()\n",
    "ax = fig.gca(projection='3d')\n",
    "ax.plot_surface(X1,X2,Prob,cmap='Greys')\n",
    "ax.set_xlabel('X1')\n",
    "ax.set_ylabel('X2')\n",
    "ax.set_zlabel('Probability')\n",
    "plt.show()"
   ]
  },
  {
   "cell_type": "markdown",
   "metadata": {},
   "source": [
    "## Part B"
   ]
  },
  {
   "cell_type": "code",
   "execution_count": 126,
   "metadata": {},
   "outputs": [],
   "source": [
    "def probFunc(X):\n",
    "    # Creating normal functions\n",
    "    mu1 = np.transpose(np.array([0,0]))\n",
    "    mu2 = np.transpose(np.array([5,5]))\n",
    "    \n",
    "    # \n",
    "    sigma = np.array([[0.25,0],[0,2]])\n",
    "    sigma = sigma.diagonal(0)\n",
    "\n",
    "    n1 = mv(mu1,sigma)\n",
    "    n2 = mv(mu2,sigma)\n",
    "\n",
    "    prob = 0.5*(n1.pdf(X)+n2.pdf(X))\n",
    "    \n",
    "    return prob\n"
   ]
  },
  {
   "cell_type": "code",
   "execution_count": 86,
   "metadata": {},
   "outputs": [],
   "source": [
    "def mcmc(x_int,steps=10**4,step_size=[[6,0],[0,6]]):\n",
    "    '''\n",
    "    MCMC two multivariate normal distributions \n",
    "    x_int is the intial values\n",
    "    steps are the number of steps\n",
    "    step_size is how large the steps are\n",
    "    \n",
    "    Will show the plots of:\n",
    "    Scatter Plots\n",
    "    Trace of x1 and x2\n",
    "    Histogram of x1 and x2\n",
    "    Histogram of acceptance or rejection\n",
    "    \n",
    "    Returns the 2D array of x ([x1,x2]) and the mean\n",
    "    '''\n",
    "    # Setting up the walker\n",
    "    sigma = np.array(step_size)\n",
    "    sigma = sigma.diagonal(0)\n",
    "    x = x_int\n",
    "    x1 = []\n",
    "    x2 = []\n",
    "    accept = []\n",
    "    \n",
    "    # Doing the burn in using 10% of the steps\n",
    "    for i in range(int(.1*steps)):\n",
    "        x_prime = scipy.stats.multivariate_normal(x,sigma).rvs()\n",
    "        prob = probFunc(x_prime)/probFunc(x)\n",
    "        if prob > 1:\n",
    "            x = x_prime \n",
    "        else: \n",
    "            rand = random.uniform(0,1)    \n",
    "            if rand <= prob:\n",
    "                x = x_prime\n",
    "            else:\n",
    "                x_prime = 0\n",
    "    \n",
    "    # Running the MCMC\n",
    "    for i in range(steps):\n",
    "        x_prime = scipy.stats.multivariate_normal(x,sigma).rvs()\n",
    "        prob = probFunc(x_prime)/probFunc(x)\n",
    "        \n",
    "        # If higher prob is higher, accepts\n",
    "        if prob > 1:\n",
    "            x = x_prime\n",
    "            x1.append(x[0])\n",
    "            x2.append(x[1])\n",
    "            accept.append(1)\n",
    "        \n",
    "        # If less than 1, draws a random int\n",
    "        else: \n",
    "            rand = random.uniform(0,1)    \n",
    "            if rand <= prob: # accepts\n",
    "                x = x_prime\n",
    "                x1.append(x[0])\n",
    "                x2.append(x[1])\n",
    "                accept.append(1)\n",
    "            else: # rejects\n",
    "                x_prime = 0\n",
    "                x1.append(x[0])\n",
    "                x2.append(x[1])\n",
    "                accept.append(0)\n",
    "    \n",
    "    # putting everything into arrays\n",
    "    x = np.array([x1,x2])\n",
    "    mean = np.mean(x)\n",
    "\n",
    "    # Plotting the scatter plot\n",
    "    s = plt.figure(1)\n",
    "    plt.scatter(x[0],x[1],color='black',s=.5)\n",
    "    plt.xlabel('$X_1$')\n",
    "    plt.ylabel('$X_2$')\n",
    "    s.show()\n",
    "    \n",
    "    # Plotting the trace\n",
    "    steps = np.linspace(0,steps,steps)\n",
    "    t, ax = plt.subplots(nrows=2,ncols=1,sharex=True)\n",
    "    ax[0].plot(steps,x[0],color='black',label='$X_1$')\n",
    "    ax[1].plot(steps,x[1],color='red',label='$X_2$')\n",
    "    ax[0].set_ylabel('$X_1$')\n",
    "    ax[1].set_ylabel('$X_2$')\n",
    "    t.subplots_adjust(wspace=None)\n",
    "    t.show()\n",
    "    \n",
    "    # Plotting the histogram of x1 and x2\n",
    "    h = plt.figure(3)\n",
    "    plt.hist(x[0],color='black',histtype='step',bins=100,label='$X_1$')\n",
    "    plt.hist(x[1],color='red',histtype='step',bins=100,label='$X_2$')\n",
    "    plt.legend(loc=0)\n",
    "    h.show()\n",
    "    \n",
    "    # Plotting the acceptance\n",
    "    h2 = plt.figure(4)\n",
    "    plt.hist(accept,color='black',histtype='step')\n",
    "    h2.show()\n",
    "    \n",
    "    return x,mean\n",
    "    \n",
    "    \n",
    "    "
   ]
  },
  {
   "cell_type": "code",
   "execution_count": 12,
   "metadata": {},
   "outputs": [
    {
     "name": "stdout",
     "output_type": "stream",
     "text": [
      "2.5036401925701215\n"
     ]
    }
   ],
   "source": [
    "x,mean = mcmc([10,10],steps=10**5,step_size=[[6,0],[0,6]])\n",
    "print(mean)"
   ]
  },
  {
   "cell_type": "markdown",
   "metadata": {},
   "source": [
    "## Part C"
   ]
  },
  {
   "cell_type": "code",
   "execution_count": 144,
   "metadata": {},
   "outputs": [],
   "source": [
    "# Creating functions to do the stuff\n",
    "# Found out how to make an arbitrary number of list: \n",
    "# https://stackoverflow.com/questions/13520876/how-can-i-make-multiple-empty-lists-in-python\n",
    "\n",
    "def partition(arr,bins):\n",
    "    '''\n",
    "    Breaks up an array into sub-arrays.\n",
    "    If the array doesn't perfect break up, will just take the remainder at the end\n",
    "    '''\n",
    "    # makes list for N number of parameteres\n",
    "    if len(arr) != 1:\n",
    "        lists = [[] for _ in range(len(arr))]\n",
    "    else:\n",
    "        lists = []\n",
    "        \n",
    "    # Loops through each parameter and bins it up\n",
    "    for i in range(len(lists)):\n",
    "        # Putting the data into one array\n",
    "        data = arr[i]\n",
    "        \n",
    "        # Placing the new array\n",
    "        new_arr = lists[i]\n",
    "\n",
    "        # How many time we can fully bin the array\n",
    "        iterations = len(data)//bins\n",
    "\n",
    "        # Breaking up the array\n",
    "        for j in range(iterations):\n",
    "            new_arr.append(data[:bins])\n",
    "            data = data[bins:]\n",
    "        \n",
    "        # The remainder of the array is put at the end\n",
    "        new_arr.append(arr[i])\n",
    "        \n",
    "        # Putting it back into the list \n",
    "        lists[i] = np.array(new_arr)\n",
    "        \n",
    "    return np.array(lists)\n",
    "\n",
    "def meanError(arr,bins):\n",
    "    '''\n",
    "    Takes in an array resulting from an MCMC and caluclates the error associated with it \n",
    "    '''\n",
    "    # This splits the array\n",
    "    new_arr = partition(arr,bins)\n",
    "    \n",
    "    # Makes new arrays for the means\n",
    "    means = [[] for _ in range(len(new_arr))]\n",
    "    err = [[] for _ in range(len(new_arr))]\n",
    "    \n",
    "    # Takes the mean of each sub array and puts it into the mean array\n",
    "    # Calculates the error through usual error estiamte: sqrt(variance/N)\n",
    "    for i in range(len(means)):\n",
    "        data = np.array(new_arr[i])\n",
    "        for j in range(len(data)):\n",
    "            means[i].append(np.mean(data[j]))\n",
    "        err[i].append(np.sqrt(np.var(np.array(means[i]))/np.array(means[i]).shape[0]))\n",
    "    err = np.array(err)\n",
    "    means = np.array(means)\n",
    "    \n",
    "    # Calculates total error\n",
    "    # error = sqrt(sigma_1**2+sigma_2**2+...+sigma_n**2)\n",
    "    error = []\n",
    "    for i in range(len(err)):\n",
    "        error.append(err[i]**2)\n",
    "    error = np.sqrt(np.sum(np.array(error)))/len(error)\n",
    "    \n",
    "    return error,means\n",
    "\n",
    "    "
   ]
  },
  {
   "cell_type": "code",
   "execution_count": 157,
   "metadata": {},
   "outputs": [],
   "source": [
    "err = []\n",
    "mean = []\n",
    "bins = [10,20,50,100,200,500,1000,2000,5000,10000,20000,30000,40000,50000]\n",
    "\n",
    "for i in bins:\n",
    "    result = meanError(x,i)\n",
    "    err.append(result[0])\n",
    "    mean.append(result[1])\n",
    "    \n",
    "err = np.array(err)\n",
    "\n",
    "plt.scatter(bins,err,color='k',marker='o',s=5)\n",
    "plt.show()"
   ]
  },
  {
   "cell_type": "code",
   "execution_count": 147,
   "metadata": {
    "scrolled": true
   },
   "outputs": [
    {
     "data": {
      "text/plain": [
       "(0.04752948690293052,\n",
       " array([[1.83670807, 5.09914868, 4.98104605, ..., 2.02501354, 2.5341001 ,\n",
       "         2.50711739],\n",
       "        [1.8250662 , 5.06221845, 5.36708228, ..., 1.842469  , 2.15238342,\n",
       "         2.500163  ]]))"
      ]
     },
     "execution_count": 147,
     "metadata": {},
     "output_type": "execute_result"
    }
   ],
   "source": [
    "err,mean"
   ]
  },
  {
   "cell_type": "code",
   "execution_count": null,
   "metadata": {},
   "outputs": [],
   "source": []
  }
 ],
 "metadata": {
  "kernelspec": {
   "display_name": "Python 3",
   "language": "python",
   "name": "python3"
  },
  "language_info": {
   "codemirror_mode": {
    "name": "ipython",
    "version": 3
   },
   "file_extension": ".py",
   "mimetype": "text/x-python",
   "name": "python",
   "nbconvert_exporter": "python",
   "pygments_lexer": "ipython3",
   "version": "3.7.0"
  }
 },
 "nbformat": 4,
 "nbformat_minor": 2
}
